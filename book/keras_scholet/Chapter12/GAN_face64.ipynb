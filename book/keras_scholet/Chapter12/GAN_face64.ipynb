{
 "cells": [
  {
   "cell_type": "markdown",
   "id": "873504b1",
   "metadata": {},
   "source": [
    "### Libraries"
   ]
  },
  {
   "cell_type": "code",
   "execution_count": 12,
   "id": "fa9db71b",
   "metadata": {},
   "outputs": [],
   "source": [
    "import os\n",
    "os.environ['TF_CPP_MIN_LOG_LEVEL'] = '3'\n",
    "\n",
    "from tensorflow.keras.layers import Dense, Flatten, Reshape, Input, BatchNormalization, MaxPooling2D,\\\n",
    "                                    Conv2D, Conv2DTranspose, LeakyReLU, Dropout\n",
    "\n",
    "from tensorflow.keras.models import Sequential, Model, load_model\n",
    "from tensorflow.keras.utils import image_dataset_from_directory\n",
    "from tensorflow.keras.optimizers import RMSprop\n",
    "from tensorflow import keras\n",
    "import tensorflow as tf\n",
    "\n",
    "import time\n",
    "import numpy as np\n",
    "import matplotlib.pyplot as plt"
   ]
  },
  {
   "cell_type": "markdown",
   "id": "701f3112",
   "metadata": {},
   "source": [
    "### Dataset"
   ]
  },
  {
   "cell_type": "code",
   "execution_count": 8,
   "id": "e85727ff",
   "metadata": {},
   "outputs": [
    {
     "name": "stdout",
     "output_type": "stream",
     "text": [
      "Found 70000 files belonging to 1 classes.\n",
      "Using 66500 files for training.\n",
      "Found 70000 files belonging to 1 classes.\n",
      "Using 3500 files for validation.\n"
     ]
    }
   ],
   "source": [
    "# Params\n",
    "PATH_DATASET = r\"D:\\BigDataSets\\ImageGeneration\\face_thumbnails128x128\"\n",
    "BATCH_SIZE = 64\n",
    "\n",
    "# Dataset (https://www.kaggle.com/datasets/greatgamedota/ffhq-face-data-set)\n",
    "dataset_train = image_dataset_from_directory(PATH_DATASET, labels=None, batch_size=BATCH_SIZE,\n",
    "                                             image_size=(64, 64), smart_resize=True,\n",
    "                                             validation_split=0.05, seed=777, subset=\"training\")\n",
    "dataset_val = image_dataset_from_directory(PATH_DATASET, labels=None, batch_size=BATCH_SIZE,\n",
    "                                           image_size=(64, 64), seed=777, smart_resize=True,\n",
    "                                           validation_split=0.05, subset=\"validation\")\n",
    "dataset_train = dataset_train.map(lambda img: img / 255)\n",
    "dataset_val = dataset_train.map(lambda img: img / 255)"
   ]
  },
  {
   "cell_type": "code",
   "execution_count": 9,
   "id": "396bb394",
   "metadata": {
    "collapsed": true
   },
   "outputs": [
    {
     "data": {
      "image/png": "[encoded data removed]",
      "text/plain": [
       "<Figure size 640x480 with 1 Axes>"
      ]
     },
     "metadata": {},
     "output_type": "display_data"
    }
   ],
   "source": [
    "for x in dataset_train:\n",
    "    plt.axis(\"off\")\n",
    "    plt.imshow((x.numpy() * 255).astype(\"int32\")[0])\n",
    "    break"
   ]
  },
  {
   "cell_type": "markdown",
   "id": "652e8462",
   "metadata": {},
   "source": []
  },
  {
   "cell_type": "code",
   "execution_count": 14,
   "id": "aadc618c",
   "metadata": {},
   "outputs": [],
   "source": [
    "HIDDEN_DIM = 128\n",
    "# KWARGS_INIT = {'kernel_initializer': RandomNormal(mean=0., stddev=0.02)}  KWARGS_INIT | \n",
    "KWARGS_CONV = {'padding': 'same'}\n",
    "KWARGS_CONV_D = KWARGS_CONV | {'activation': LeakyReLU(0.2)}"
   ]
  },
  {
   "cell_type": "code",
   "execution_count": 13,
   "id": "3bbe9bb0",
   "metadata": {},
   "outputs": [
    {
     "name": "stdout",
     "output_type": "stream",
     "text": [
      "Model: \"discriminator\"\n",
      "_________________________________________________________________\n",
      " Layer (type)                Output Shape              Param #   \n",
      "=================================================================\n",
      " conv2d_4 (Conv2D)           (None, 64, 64, 64)        3136      \n",
      "                                                                 \n",
      " conv2d_5 (Conv2D)           (None, 32, 32, 128)       131200    \n",
      "                                                                 \n",
      " conv2d_6 (Conv2D)           (None, 16, 16, 128)       262272    \n",
      "                                                                 \n",
      " conv2d_7 (Conv2D)           (None, 8, 8, 256)         524544    \n",
      "                                                                 \n",
      " flatten_1 (Flatten)         (None, 16384)             0         \n",
      "                                                                 \n",
      " dropout (Dropout)           (None, 16384)             0         \n",
      "                                                                 \n",
      " dense (Dense)               (None, 1)                 16385     \n",
      "                                                                 \n",
      "=================================================================\n",
      "Total params: 937,537\n",
      "Trainable params: 937,537\n",
      "Non-trainable params: 0\n",
      "_________________________________________________________________\n"
     ]
    }
   ],
   "source": [
    "discriminator = keras.Sequential([\n",
    "    Input(shape=(64, 64, 3)),\n",
    "    Conv2D(64, kernel_size=4, strides=1, **KWARGS_CONV_D),\n",
    "    Conv2D(128, kernel_size=4, strides=2, **KWARGS_CONV_D),\n",
    "    Conv2D(128, kernel_size=4, strides=2, **KWARGS_CONV_D),\n",
    "    Conv2D(256, kernel_size=4, strides=2, **KWARGS_CONV_D),\n",
    "    Flatten(),\n",
    "    Dropout(0.2),  # Защита от шума генератора\n",
    "    Dense(1, activation=\"sigmoid\")],\n",
    "    name=\"discriminator\")"
   ]
  },
  {
   "cell_type": "code",
   "execution_count": 16,
   "id": "3bfe0adc",
   "metadata": {},
   "outputs": [],
   "source": [
    "generator = keras.Sequential([\n",
    "    Input(shape=(HIDDEN_DIM,)),\n",
    "    Dense(8 * 8 * 128),\n",
    "    Reshape((8, 8, 128)),\n",
    "    Conv2DTranspose(128, kernel_size=4, strides=2, **KWARGS_CONV_D),\n",
    "    Conv2DTranspose(256, kernel_size=4, strides=2, **KWARGS_CONV_D),\n",
    "    Conv2DTranspose(512, kernel_size=4, strides=2, **KWARGS_CONV_D),\n",
    "    Conv2D(3, kernel_size=5, padding=\"same\", activation=\"sigmoid\")],\n",
    "    name=\"generator\")"
   ]
  },
  {
   "cell_type": "code",
   "execution_count": 17,
   "id": "e7df10ab",
   "metadata": {},
   "outputs": [
    {
     "name": "stdout",
     "output_type": "stream",
     "text": [
      "Model: \"discriminator\"\n",
      "_________________________________________________________________\n",
      " Layer (type)                Output Shape              Param #   \n",
      "=================================================================\n",
      " conv2d_4 (Conv2D)           (None, 64, 64, 64)        3136      \n",
      "                                                                 \n",
      " conv2d_5 (Conv2D)           (None, 32, 32, 128)       131200    \n",
      "                                                                 \n",
      " conv2d_6 (Conv2D)           (None, 16, 16, 128)       262272    \n",
      "                                                                 \n",
      " conv2d_7 (Conv2D)           (None, 8, 8, 256)         524544    \n",
      "                                                                 \n",
      " flatten_1 (Flatten)         (None, 16384)             0         \n",
      "                                                                 \n",
      " dropout (Dropout)           (None, 16384)             0         \n",
      "                                                                 \n",
      " dense (Dense)               (None, 1)                 16385     \n",
      "                                                                 \n",
      "=================================================================\n",
      "Total params: 937,537\n",
      "Trainable params: 937,537\n",
      "Non-trainable params: 0\n",
      "_________________________________________________________________\n",
      "Model: \"generator\"\n",
      "_________________________________________________________________\n",
      " Layer (type)                Output Shape              Param #   \n",
      "=================================================================\n",
      " dense_2 (Dense)             (None, 8192)              1056768   \n",
      "                                                                 \n",
      " reshape (Reshape)           (None, 8, 8, 128)         0         \n",
      "                                                                 \n",
      " conv2d_transpose (Conv2DTra  (None, 16, 16, 128)      262272    \n",
      " nspose)                                                         \n",
      "                                                                 \n",
      " conv2d_transpose_1 (Conv2DT  (None, 32, 32, 256)      524544    \n",
      " ranspose)                                                       \n",
      "                                                                 \n",
      " conv2d_transpose_2 (Conv2DT  (None, 64, 64, 512)      2097664   \n",
      " ranspose)                                                       \n",
      "                                                                 \n",
      " conv2d_8 (Conv2D)           (None, 64, 64, 3)         38403     \n",
      "                                                                 \n",
      "=================================================================\n",
      "Total params: 3,979,651\n",
      "Trainable params: 3,979,651\n",
      "Non-trainable params: 0\n",
      "_________________________________________________________________\n"
     ]
    }
   ],
   "source": [
    "discriminator.summary()\n",
    "generator.summary()"
   ]
  },
  {
   "cell_type": "code",
   "execution_count": null,
   "id": "9b90a404",
   "metadata": {},
   "outputs": [],
   "source": []
  },
  {
   "cell_type": "code",
   "execution_count": null,
   "id": "adfbf5c6",
   "metadata": {},
   "outputs": [],
   "source": []
  }
 ],
 "metadata": {
  "kernelspec": {
   "display_name": "Python 3 (ipykernel)",
   "language": "python",
   "name": "python3"
  },
  "language_info": {
   "codemirror_mode": {
    "name": "ipython",
    "version": 3
   },
   "file_extension": ".py",
   "mimetype": "text/x-python",
   "name": "python",
   "nbconvert_exporter": "python",
   "pygments_lexer": "ipython3",
   "version": "3.9.7"
  }
 },
 "nbformat": 4,
 "nbformat_minor": 5
}
