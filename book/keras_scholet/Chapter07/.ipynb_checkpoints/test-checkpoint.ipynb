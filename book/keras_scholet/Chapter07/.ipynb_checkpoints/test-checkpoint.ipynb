{
 "cells": [
  {
   "cell_type": "code",
   "execution_count": null,
   "id": "4b6e4933",
   "metadata": {},
   "outputs": [],
   "source": [
    "import os\n",
    "os.environ['TF_CPP_MIN_LOG_LEVEL'] = '3' "
   ]
  },
  {
   "cell_type": "code",
   "execution_count": null,
   "id": "03a39ec9",
   "metadata": {},
   "outputs": [],
   "source": [
    "from tensorflow.keras.datasets import mnist\n",
    "from tensorflow.keras.utils import to_categorical\n",
    "from tensorflow.keras.models import Sequential, Model, load_model\n",
    "from keras.layers import Dense, Conv2D, MaxPooling2D, Dropout, Flatten\n",
    "import tensorflow as tf\n",
    "\n",
    "import matplotlib.pyplot as plt\n",
    "import numpy as np"
   ]
  },
  {
   "cell_type": "code",
   "execution_count": null,
   "id": "622cf223",
   "metadata": {},
   "outputs": [],
   "source": [
    "(X_train, y_train), (X_test, y_test) = mnist.load_data()  # / 255\n",
    "y_train, y_test = to_categorical(y_train), to_categorical(y_test)\n",
    "X_train, X_test = X_train.reshape(*X_train.shape, 1).astype(\"float32\") / 255,\n",
    "                  X_test.reshape(*X_test.shape, 1).astype(\"float32\") / 255  # 60_000(10_000), 28, 28, 1"
   ]
  },
  {
   "cell_type": "code",
   "execution_count": null,
   "id": "910a3c19",
   "metadata": {},
   "outputs": [],
   "source": [
    "X_train[:1]"
   ]
  },
  {
   "cell_type": "code",
   "execution_count": null,
   "id": "0a1ce228",
   "metadata": {},
   "outputs": [],
   "source": [
    "model = Sequential()\n",
    "model.add(Conv2D(64, kernel_size=3, activation=\"relu\", input_shape=(28, 28, 1)))\n",
    "model.add(MaxPooling2D())  # AveragePooling2D (хуже)\n",
    "model.add(Conv2D(128, kernel_size=3, activation=\"relu\"))  # padding(same[0], valid[n])\n",
    "model.add(Flatten())\n",
    "model.add(Dropout(0.4))\n",
    "model.add(Dense(64, activation=\"relu\"))\n",
    "model.add(Dropout(0.25))\n",
    "model.add(Dense(10, activation=\"softmax\"))\n",
    "\n",
    "model.compile(optimizer='adam',\n",
    "              loss='sparse_categorical_crossentropy',\n",
    "              metrics=['accuracy'])\n",
    "model.summary()\n",
    "\n",
    "history = model.fit(X_train, y_train, epochs=20, batch_size=128,\n",
    "                    validation_data=(X_test, y_test))\n",
    "\n",
    "model.save('model.keras')"
   ]
  },
  {
   "cell_type": "code",
   "execution_count": null,
   "id": "cd9ea1c7",
   "metadata": {},
   "outputs": [],
   "source": [
    "model = load_model('model.keras')"
   ]
  },
  {
   "cell_type": "code",
   "execution_count": null,
   "id": "665fbdd7",
   "metadata": {},
   "outputs": [],
   "source": [
    "# Test\n",
    "def test(size=25):\n",
    "    n = np.random.randint(0, y_test.shape[0], size=size)\n",
    "    X_train_n = X_test[n]\n",
    "    y_train_n = y_test[n]\n",
    "    predict = model.predict(X_train_n, verbose=0)\n",
    "    plt.figure(figsize=(10, 10))\n",
    "    for i in range(size):\n",
    "        plt.subplot(5, 5, i + 1)\n",
    "        plt.xticks([])\n",
    "        plt.yticks([])\n",
    "        plt.grid(False)\n",
    "        i1, i2 = np.argmax(y_train_n[i]), np.argmax(predict[i])\n",
    "        plt.title(f'{i1} -> {i2}', c='green' if i1 == i2 else 'red')\n",
    "        plt.imshow(X_train_n[i], cmap=plt.cm.binary)\n",
    "    plt.show()\n",
    "\n",
    "\n",
    "for _ in range(5):\n",
    "    test()"
   ]
  }
 ],
 "metadata": {
  "kernelspec": {
   "display_name": "Python 3 (ipykernel)",
   "language": "python",
   "name": "python3"
  },
  "language_info": {
   "codemirror_mode": {
    "name": "ipython",
    "version": 3
   },
   "file_extension": ".py",
   "mimetype": "text/x-python",
   "name": "python",
   "nbconvert_exporter": "python",
   "pygments_lexer": "ipython3",
   "version": "3.9.7"
  }
 },
 "nbformat": 4,
 "nbformat_minor": 5
}
