{
 "cells": [
  {
   "cell_type": "markdown",
   "id": "db71abe4",
   "metadata": {},
   "source": [
    "### Libs and data from file"
   ]
  },
  {
   "cell_type": "code",
   "execution_count": 1,
   "id": "e975d1bc",
   "metadata": {},
   "outputs": [],
   "source": [
    "import os\n",
    "import random\n",
    "import pathlib\n",
    "os.environ['TF_CPP_MIN_LOG_LEVEL'] = '3'\n",
    "\n",
    "from tensorflow.keras.optimizers import Adam, RMSprop\n",
    "from tensorflow.keras.models import Sequential, Model, load_model\n",
    "from tensorflow.keras.layers import Input, Dense, Dropout, TextVectorization, Embedding, GRU, Bidirectional\n",
    "from tensorflow.keras.layers import Layer, MultiHeadAttention, LayerNormalization, concatenate\n",
    "from tensorflow import keras\n",
    "\n",
    "import tensorflow as tf\n",
    "import tensorflow_text as tf_text\n",
    "\n",
    "import matplotlib.pyplot as plt\n",
    "import numpy as np\n",
    "\n",
    "# tf.keras.mixed_precision.set_global_policy(\"mixed_float16\")"
   ]
  },
  {
   "cell_type": "code",
   "execution_count": 2,
   "id": "6a1f1ecc",
   "metadata": {},
   "outputs": [],
   "source": [
    "BATCH_SIZE = 64\n",
    "MAX_SEQ_LENGTH = 25\n",
    "VOCAB_SIZE = 15_000"
   ]
  },
  {
   "cell_type": "code",
   "execution_count": 3,
   "id": "faebaacf",
   "metadata": {},
   "outputs": [],
   "source": [
    "# Download the file\n",
    "path_to_zip = tf.keras.utils.get_file('spa-eng.zip', extract=True,\n",
    "                                      origin='http://storage.googleapis.com/download.tensorflow.org/data/spa-eng.zip')\n",
    "\n",
    "PATH_TO_DATASET = pathlib.Path(path_to_zip).parent / 'spa-eng' / 'spa.txt'"
   ]
  },
  {
   "cell_type": "code",
   "execution_count": 4,
   "id": "64107fe7",
   "metadata": {},
   "outputs": [
    {
     "name": "stdout",
     "output_type": "stream",
     "text": [
      "Chars in dataset: 7919056\n"
     ]
    }
   ],
   "source": [
    "def tf_lower_and_split_punct(text):\n",
    "    text = tf_text.normalize_utf8(text, 'NFKD')  # Split accecented characters.\n",
    "    text = tf.strings.lower(text)\n",
    "    text = tf.strings.regex_replace(text, '[^ a-z.?!,¿]', '')  # Keep space, a to z, [], and select punctuation.\n",
    "    text = tf.strings.regex_replace(text, '[.?!,¿]', r' \\0 ')  # Add spaces around punctuation.\n",
    "    text = tf.strings.strip(text)  # Strip whitespace.\n",
    "\n",
    "    text = tf.strings.join(['[START]', text, '[END]'], separator=' ')\n",
    "    return text\n",
    "\n",
    "def split_pair(pair):\n",
    "    return [p[0] for p in pair], [p[1] for p in pair]\n",
    "\n",
    "def load_data(path):\n",
    "    text = path.read_text(encoding='utf-8')\n",
    "    print(f\"Chars in dataset: {len(text)}\")\n",
    "\n",
    "    lines = text.splitlines()\n",
    "    pairs = [line.split('\\t') for line in lines]\n",
    "    return pairs\n",
    "\n",
    "\n",
    "pairs = load_data(PATH_TO_DATASET)\n",
    "random.Random(2006).shuffle(pairs)  # 118_964 = 85_000 + 10_000 + 23 964\n",
    "train_pairs, val_pairs, test_pairs = pairs[:85_000], pairs[85_000:95_000], pairs[95_000:]\n",
    "\n",
    "ds_text = tf.data.Dataset.from_tensor_slices(split_pair(pairs)).shuffle(BATCH_SIZE * 100).batch(BATCH_SIZE)"
   ]
  },
  {
   "cell_type": "code",
   "execution_count": 5,
   "id": "d9d2ce4a",
   "metadata": {
    "scrolled": true
   },
   "outputs": [
    {
     "name": "stdout",
     "output_type": "stream",
     "text": [
      "['It was good working with you.', 'Estuvo bien trabajar contigo.']\n",
      "[\"Don't touch my camera.\", 'No toques mi cámara.']\n",
      "[\"I know what I'm saying.\", 'Yo sé lo que estoy diciendo.']\n",
      "['I think they know you.', 'Yo creo que ellas te conocen.']\n",
      "['I like fishing.', 'Me gusta la pesca.']\n",
      "tf.Tensor(b\"Don't leave things half finished.\", shape=(), dtype=string)\n",
      "tf.Tensor(b'Tom and Mary are going to a dance tomorrow evening.', shape=(), dtype=string)\n",
      "tf.Tensor(b'My aunt brought me some flowers.', shape=(), dtype=string)\n",
      "tf.Tensor(b'No dejes las cosas a medias.', shape=(), dtype=string)\n",
      "tf.Tensor(b'Tom y Mary van a bailar ma\\xc3\\xb1ana por la tarde.', shape=(), dtype=string)\n",
      "tf.Tensor(b'Mi t\\xc3\\xada me trajo algunas flores.', shape=(), dtype=string)\n",
      "\n",
      "¿Todavía está en casa?\n",
      "[START] ¿ todavia esta en casa ? [END]\n"
     ]
    }
   ],
   "source": [
    "print(*pairs[:5], sep='\\n')\n",
    "for example_input_batch, example_target_batch in ds_text.take(1):\n",
    "    print(*example_input_batch[:3], sep='\\n')\n",
    "    print(*example_target_batch[:3], sep='\\n')\n",
    "    print()\n",
    "\n",
    "example_text = tf.constant(\"¿Todavía está en casa?\", dtype=tf.string)\n",
    "print(example_text.numpy().decode())\n",
    "print(tf_lower_and_split_punct(example_text).numpy().decode())"
   ]
  },
  {
   "cell_type": "code",
   "execution_count": 6,
   "id": "c053952f",
   "metadata": {
    "collapsed": true
   },
   "outputs": [
    {
     "name": "stdout",
     "output_type": "stream",
     "text": [
      "[ 0.  1.  2.  3.  4.  5.  6.  7.  8.  9. 10. 11. 12. 13. 14. 15. 16. 17.\n",
      " 18. 19. 20. 21. 22. 23. 24. 25. 26. 27. 28. 29. 30. 31. 32. 33. 34. 35.\n",
      " 36. 37. 38. 39. 40. 41. 42. 43. 44. 45. 46. 47. 48. 49. 50.] [    0     0     0     0    48  2822  9586 17620 20897 19935 16457 11350\n",
      "  7737  4670  3061  1817  1098   727   446   259   117    77    74    59\n",
      "    19    26    15    13    13     3     2     0     0     2     2     6\n",
      "     0     2     2     0     0     0     0     0     0     0     1     0\n",
      "     0     1]\n"
     ]
    },
    {
     "data": {
      "image/png": "[encoded data removed]",
      "text/plain": [
       "<Figure size 500x300 with 1 Axes>"
      ]
     },
     "metadata": {},
     "output_type": "display_data"
    }
   ],
   "source": [
    "cap_lens = [len(p[0].split()) + 3 for p in pairs]\n",
    "counts, bins = np.histogram(cap_lens, 50, range=(0., 50.))\n",
    "print(bins, counts)\n",
    "\n",
    "fig, ax = plt.subplots(figsize=(5,  3), layout='constrained')\n",
    "plt.hist(bins[:-1], bins, weights=counts, density=True, facecolor='C0', alpha=0.75)\n",
    "ax.set_xlabel('Length captions')\n",
    "ax.set_ylabel('Probability')\n",
    "plt.show()"
   ]
  },
  {
   "cell_type": "markdown",
   "id": "4efab3d6",
   "metadata": {},
   "source": [
    "### Tokenizer"
   ]
  },
  {
   "cell_type": "code",
   "execution_count": 7,
   "id": "ea41fc32",
   "metadata": {},
   "outputs": [
    {
     "name": "stdout",
     "output_type": "stream",
     "text": [
      "['', '[UNK]', '[START]', '[END]', '.', 'the', 'i', 'to', 'you', 'tom', 'a', '?', 'is', 'he', 'in', 'of', 'that', 'it']\n",
      "['', '[UNK]', '[START]', '[END]', '.', 'que', 'de', 'el', 'a', 'no', 'tom', 'la', '?', '¿', 'en', 'es', 'un', 'se']\n"
     ]
    }
   ],
   "source": [
    "source_vectorization = tf.keras.layers.TextVectorization(  # English\n",
    "    standardize=tf_lower_and_split_punct,\n",
    "    max_tokens=VOCAB_SIZE, output_mode=\"int\",\n",
    "    output_sequence_length=MAX_SEQ_LENGTH)\n",
    "\n",
    "source_vectorization.adapt([p[0] for p in train_pairs])\n",
    "eng_vocab = source_vectorization.get_vocabulary()\n",
    "eng_index_lookup = dict(zip(range(len(eng_vocab)), eng_vocab))\n",
    "print(eng_vocab[:18])  # Here are the first 18 words from the vocabulary\n",
    "\n",
    "\n",
    "target_vectorization = tf.keras.layers.TextVectorization(  # Spanish\n",
    "    standardize=tf_lower_and_split_punct,\n",
    "    max_tokens=VOCAB_SIZE, output_mode=\"int\",\n",
    "    output_sequence_length=MAX_SEQ_LENGTH+1)\n",
    "\n",
    "target_vectorization.adapt([p[1] for p in train_pairs])\n",
    "spa_vocab = target_vectorization.get_vocabulary()\n",
    "spa_index_lookup = dict(zip(range(len(spa_vocab)), spa_vocab))\n",
    "print(spa_vocab[:18])  # Here are the first 18 words from the vocabulary"
   ]
  },
  {
   "cell_type": "code",
   "execution_count": 9,
   "id": "628cb346",
   "metadata": {
    "collapsed": true
   },
   "outputs": [
    {
     "name": "stdout",
     "output_type": "stream",
     "text": [
      "tf.Tensor(\n",
      "[[  2  27 179 253 786 403   4   3   0   0   0   0   0   0   0   0   0   0\n",
      "    0   0   0   0   0   0   0]\n",
      " [  2   9  40  32  29  75   7  10 740 166 664   4   3   0   0   0   0   0\n",
      "    0   0   0   0   0   0   0]], shape=(2, 25), dtype=int64)\n"
     ]
    },
    {
     "data": {
      "image/png": "[encoded data removed]",
      "text/plain": [
       "<Figure size 640x480 with 2 Axes>"
      ]
     },
     "metadata": {},
     "output_type": "display_data"
    }
   ],
   "source": [
    "example_tokens = source_vectorization(example_input_batch)\n",
    "print(example_tokens[:2, :])\n",
    "\n",
    "plt.subplot(1, 2, 1)\n",
    "plt.pcolormesh(example_tokens)\n",
    "plt.title('Token IDs')\n",
    "\n",
    "plt.subplot(1, 2, 2)\n",
    "plt.pcolormesh(example_tokens != 0)\n",
    "plt.title('Mask')\n",
    "plt.show()"
   ]
  },
  {
   "cell_type": "markdown",
   "id": "0a76a6ae",
   "metadata": {},
   "source": [
    "### Datasets"
   ]
  },
  {
   "cell_type": "code",
   "execution_count": 10,
   "id": "83f82c6a",
   "metadata": {},
   "outputs": [],
   "source": [
    "def format_dataset(eng, spa):\n",
    "    eng = source_vectorization(eng)\n",
    "    spa = target_vectorization(spa)\n",
    "    return ({\"english\": eng, \"spanish\": spa[:, :-1]}, spa[:, 1:])\n",
    "\n",
    "def make_dataset(pairs, batch_size=BATCH_SIZE):\n",
    "    eng_texts, spa_texts = zip(*pairs)\n",
    "    eng_texts = list(eng_texts)\n",
    "    spa_texts = list(spa_texts)\n",
    "    dataset = tf.data.Dataset.from_tensor_slices((eng_texts, spa_texts)).batch(batch_size)\n",
    "    dataset = dataset.map(format_dataset, num_parallel_calls=4)\n",
    "    return dataset.shuffle(2048).prefetch(buffer_size=tf.data.AUTOTUNE).cache()\n",
    "\n",
    "train_ds = make_dataset(train_pairs)\n",
    "val_ds   = make_dataset(val_pairs)\n",
    "test_ds  = make_dataset(test_pairs)"
   ]
  },
  {
   "cell_type": "code",
   "execution_count": 15,
   "id": "c6fe4315",
   "metadata": {
    "collapsed": true
   },
   "outputs": [
    {
     "name": "stdout",
     "output_type": "stream",
     "text": [
      "{'english': <tf.Tensor: shape=(64, 25), dtype=int64, numpy=\n",
      "array([[   2,   98,  593, ...,    0,    0,    0],\n",
      "       [   2,    6, 2310, ...,    0,    0,    0],\n",
      "       [   2,   13,   12, ...,    0,    0,    0],\n",
      "       ...,\n",
      "       [   2,   53,  444, ...,    0,    0,    0],\n",
      "       [   2,  144,    6, ...,    0,    0,    0],\n",
      "       [   2,    9,   59, ...,    0,    0,    0]], dtype=int64)>, 'spanish': <tf.Tensor: shape=(64, 25), dtype=int64, numpy=\n",
      "array([[   2,  357,  542, ...,    0,    0,    0],\n",
      "       [   2,   30, 2379, ...,    0,    0,    0],\n",
      "       [   2,    7,   15, ...,    0,    0,    0],\n",
      "       ...,\n",
      "       [   2,   13,    5, ...,    0,    0,    0],\n",
      "       [   2,  106,   74, ...,    0,    0,    0],\n",
      "       [   2,   10,    9, ...,    0,    0,    0]], dtype=int64)>}\n",
      "tf.Tensor(\n",
      "[[ 357  542 7287 ...    0    0    0]\n",
      " [  30 2379    5 ...    0    0    0]\n",
      " [   7   15 4684 ...    0    0    0]\n",
      " ...\n",
      " [  13    5   65 ...    0    0    0]\n",
      " [ 106   74  801 ...    0    0    0]\n",
      " [  10    9  137 ...    0    0    0]], shape=(64, 25), dtype=int64)\n"
     ]
    }
   ],
   "source": [
    "for example_input_batch, example_target_batch in train_ds.take(1):\n",
    "    print(example_input_batch)\n",
    "    print(example_target_batch)"
   ]
  },
  {
   "cell_type": "markdown",
   "id": "5fa6eb9a",
   "metadata": {},
   "source": [
    "## Models"
   ]
  },
  {
   "cell_type": "markdown",
   "id": "96621840",
   "metadata": {},
   "source": [
    "- ### RNN (GRU, seq2seq)"
   ]
  },
  {
   "cell_type": "code",
   "execution_count": 37,
   "id": "8e9c686b",
   "metadata": {},
   "outputs": [],
   "source": [
    "embed_dim  = 256#256\n",
    "latent_dim = 1024#1024\n",
    "\n",
    "# Encoder\n",
    "source = Input(shape=(MAX_SEQ_LENGTH,), dtype=\"int64\", name=\"english\")\n",
    "x = Embedding(input_dim=VOCAB_SIZE, output_dim=embed_dim, mask_zero=True)(source)\n",
    "enocoded_source = Bidirectional(GRU(latent_dim), merge_mode=\"sum\")(x)\n",
    "\n",
    "# Decoder\n",
    "past_target = keras.Input(shape=(None,), dtype=\"int64\", name=\"spanish\")\n",
    "x = Embedding(input_dim=VOCAB_SIZE, output_dim=embed_dim, mask_zero=True)(past_target)\n",
    "x = GRU(latent_dim, return_sequences=True)(x, initial_state=enocoded_source)\n",
    "x = Dropout(0.5)(x)\n",
    "# x = Dense(256, activation=\"relu\")(x)\n",
    "next_target_pred = Dense(VOCAB_SIZE, activation=\"softmax\")(x)\n",
    "\n",
    "model = Model([source, past_target], next_target_pred, name=\"RNN_seq2seq2\")"
   ]
  },
  {
   "cell_type": "markdown",
   "id": "fb84551c",
   "metadata": {},
   "source": [
    "- ### Transformer (encoder + decoder)\n",
    "![title](arch.png)"
   ]
  },
  {
   "cell_type": "code",
   "execution_count": 17,
   "id": "7854a1b1",
   "metadata": {},
   "outputs": [],
   "source": [
    "class TransformerEncoder(Layer):\n",
    "    def __init__(self, embed_dim, dense_dim, num_heads, **kwargs):\n",
    "        super().__init__(**kwargs)\n",
    "        self.embed_dim = embed_dim  # Input and output dim\n",
    "        self.dense_dim = dense_dim  # Hidden dense dim\n",
    "        self.num_heads = num_heads  # Num heads for MultiHeadAttention\n",
    "        \n",
    "        self.attention = MultiHeadAttention(num_heads=num_heads, key_dim=embed_dim)\n",
    "        self.dense_part = Sequential([\n",
    "            Dense(dense_dim, activation=\"relu\"),\n",
    "            Dense(embed_dim)], name=\"dense_part\")\n",
    "        self.layernorm_1 = LayerNormalization()\n",
    "        self.layernorm_2 = LayerNormalization()\n",
    "        \n",
    "    def call(self, inputs, mask=None):\n",
    "        if mask is not None:\n",
    "            mask = mask[:, tf.newaxis, :]\n",
    "        attention_out = self.attention(query=inputs, value=inputs, key=inputs, attention_mask=mask)\n",
    "        dense_input = self.layernorm_1(attention_out + inputs)\n",
    "        dense_out = self.dense_part(dense_input)\n",
    "        return self.layernorm_2(dense_input + dense_out)\n",
    "    \n",
    "    def get_config(self):\n",
    "        config = super().get_config()\n",
    "        config.update({\n",
    "            \"embed_dim\": self.embed_dim,\n",
    "            \"num_heads\": self.num_heads,\n",
    "            \"dense_dim\": self.dense_dim,\n",
    "        })\n",
    "        return config\n",
    "    \n",
    "class TransformerDecoder(Layer):\n",
    "    def __init__(self, embed_dim, dense_dim, num_heads, **kwargs):\n",
    "        super().__init__(**kwargs)\n",
    "        self.supports_masking = True  # API Keras значит на выход будет маска\n",
    "        self.embed_dim = embed_dim  # Input and output dim\n",
    "        self.dense_dim = dense_dim  # Hidden dense dim\n",
    "        self.num_heads = num_heads  # Num heads for MultiHeadAttention\n",
    "        \n",
    "        self.attention_1 = MultiHeadAttention(num_heads=num_heads, key_dim=embed_dim)\n",
    "        self.attention_2 = MultiHeadAttention(num_heads=num_heads, key_dim=embed_dim)\n",
    "        self.dense_part = Sequential([\n",
    "            Dense(dense_dim, activation=\"relu\"),\n",
    "            Dense(embed_dim)], name=\"dense_part\")\n",
    "        self.layernorm_1 = LayerNormalization()\n",
    "        self.layernorm_2 = LayerNormalization()\n",
    "        self.layernorm_3 = LayerNormalization()\n",
    "        \n",
    "    def call(self, inputs, encoder_outputs, mask=None):\n",
    "        causal_mask = self.get_causal_attention_mask(inputs)\n",
    "        if mask is not None:\n",
    "            padding_mask = tf.cast(mask[:, tf.newaxis, :], dtype=\"int32\")\n",
    "            padding_mask = tf.minimum(padding_mask, causal_mask)\n",
    "        \n",
    "        attention_1_out = self.attention_1(\n",
    "            query=inputs,\n",
    "            value=inputs,\n",
    "            key=inputs,\n",
    "            attention_mask=causal_mask)\n",
    "        attention_1_out = self.layernorm_1(attention_1_out + inputs)\n",
    "        \n",
    "        attention_2_out = self.attention_2(\n",
    "            query=attention_1_out,\n",
    "            value=encoder_outputs,\n",
    "            key=encoder_outputs,\n",
    "            attention_mask=padding_mask)\n",
    "        attention_2_out = self.layernorm_2(attention_2_out + attention_2_out)\n",
    "        \n",
    "        dense_out = self.dense_part(attention_2_out)\n",
    "        out = self.layernorm_3(attention_2_out + dense_out)\n",
    "        return out\n",
    "    \n",
    "    def get_causal_attention_mask(self, inputs):\n",
    "        input_shape = tf.shape(inputs)  # (batch, seq, emb)\n",
    "        batch_size, sequence_length = input_shape[0], input_shape[1]\n",
    "        i = tf.range(sequence_length)[:, tf.newaxis]\n",
    "        j = tf.range(sequence_length)\n",
    "        mask_falatten = tf.cast(i >= j, dtype=\"int32\")  # bool to (1 or 0)\n",
    "        mask = tf.reshape(mask_falatten, (1, input_shape[1], input_shape[1]))\n",
    "        mult = tf.concat(  # copy mask from 1 to batch_size\n",
    "            [tf.expand_dims(batch_size, -1),\n",
    "            tf.constant([1, 1], dtype=tf.int32)], axis=0)\n",
    "        return tf.tile(mask, mult)\n",
    "        \n",
    "    \n",
    "    def get_config(self):\n",
    "        config = super().get_config()\n",
    "        config.update({\n",
    "            \"embed_dim\": self.embed_dim,\n",
    "            \"num_heads\": self.num_heads,\n",
    "            \"dense_dim\": self.dense_dim,\n",
    "        })\n",
    "        return config"
   ]
  },
  {
   "cell_type": "code",
   "execution_count": 12,
   "id": "ef434898",
   "metadata": {},
   "outputs": [],
   "source": [
    "class PositionalEmbedding(Layer):\n",
    "    def __init__(self, sequence_length, input_dim, output_dim, **kwargs):\n",
    "        super().__init__(**kwargs)\n",
    "        self.sequence_length = sequence_length  # Длина последовательности\n",
    "        self.input_dim = input_dim              # Всего токенов\n",
    "        self.output_dim = output_dim            # Размер выходного вектора (токен + позиция)\n",
    "        \n",
    "        self.token_embeddings = Embedding(input_dim=input_dim, output_dim=output_dim, mask_zero=True)  # mask_zero=True\n",
    "        self.position_embeddings = Embedding(input_dim=sequence_length, output_dim=output_dim)\n",
    "    \n",
    "    def call(self, inputs):\n",
    "        length = tf.shape(inputs)[-1]\n",
    "        positions = tf.range(start=0, limit=length, delta=1)\n",
    "        embedded_tokens = self.token_embeddings(inputs)\n",
    "        embedded_positions = self.position_embeddings(positions)\n",
    "        return embedded_tokens + embedded_positions  # concatene\n",
    "    \n",
    "    def compute_mask(self, inputs, mask=None):\n",
    "        return tf.math.not_equal(inputs, 0)\n",
    "    \n",
    "    def get_config(self):\n",
    "        config = super().get_config()\n",
    "        config.update({\n",
    "            \"output_dim\": self.output_dim,\n",
    "            \"sequence_length\": self.sequence_length,\n",
    "            \"input_dim\": self.input_dim,\n",
    "        })\n",
    "        return config"
   ]
  },
  {
   "cell_type": "code",
   "execution_count": 18,
   "id": "8dc09073",
   "metadata": {},
   "outputs": [],
   "source": [
    "embed_dim = 256\n",
    "dense_dim = 2048\n",
    "num_heads = 2\n",
    "\n",
    "# Encoder\n",
    "encoder_inputs = Input(shape=(None,), dtype=\"int64\", name=\"english\")\n",
    "x = PositionalEmbedding(input_dim=VOCAB_SIZE, output_dim=embed_dim, sequence_length=MAX_SEQ_LENGTH)(encoder_inputs)\n",
    "enocoded_source = TransformerEncoder(embed_dim=embed_dim, dense_dim=dense_dim, num_heads=num_heads)(x)\n",
    "\n",
    "# Decoder\n",
    "decoder_inputs = keras.Input(shape=(None,), dtype=\"int64\", name=\"spanish\")\n",
    "x = PositionalEmbedding(input_dim=VOCAB_SIZE, output_dim=embed_dim, sequence_length=MAX_SEQ_LENGTH)(decoder_inputs)\n",
    "x = TransformerDecoder(embed_dim=embed_dim, dense_dim=dense_dim, num_heads=num_heads)(x, enocoded_source)\n",
    "\n",
    "x = Dropout(0.5)(x)\n",
    "# x = Dense(256, activation=\"relu\")(x)\n",
    "decoder_outputs = Dense(VOCAB_SIZE, activation=\"softmax\")(x)\n",
    "\n",
    "model = Model([encoder_inputs, decoder_inputs], decoder_outputs, name=\"Tranformer\")"
   ]
  },
  {
   "cell_type": "markdown",
   "id": "d16efd83",
   "metadata": {},
   "source": [
    "### Compile"
   ]
  },
  {
   "cell_type": "code",
   "execution_count": 19,
   "id": "808c9bae",
   "metadata": {
    "scrolled": false
   },
   "outputs": [
    {
     "name": "stdout",
     "output_type": "stream",
     "text": [
      "Model: \"Tranformer\"\n",
      "__________________________________________________________________________________________________\n",
      " Layer (type)                   Output Shape         Param #     Connected to                     \n",
      "==================================================================================================\n",
      " english (InputLayer)           [(None, None)]       0           []                               \n",
      "                                                                                                  \n",
      " spanish (InputLayer)           [(None, None)]       0           []                               \n",
      "                                                                                                  \n",
      " positional_embedding_4 (Positi  (None, None, 256)   3846400     ['english[0][0]']                \n",
      " onalEmbedding)                                                                                   \n",
      "                                                                                                  \n",
      " positional_embedding_5 (Positi  (None, None, 256)   3846400     ['spanish[0][0]']                \n",
      " onalEmbedding)                                                                                   \n",
      "                                                                                                  \n",
      " transformer_encoder_2 (Transfo  (None, None, 256)   3155456     ['positional_embedding_4[0][0]'] \n",
      " rmerEncoder)                                                                                     \n",
      "                                                                                                  \n",
      " transformer_decoder_2 (Transfo  (None, None, 256)   5259520     ['positional_embedding_5[0][0]', \n",
      " rmerDecoder)                                                     'transformer_encoder_2[0][0]']  \n",
      "                                                                                                  \n",
      " dropout (Dropout)              (None, None, 256)    0           ['transformer_decoder_2[0][0]']  \n",
      "                                                                                                  \n",
      " dense_12 (Dense)               (None, None, 15000)  3855000     ['dropout[0][0]']                \n",
      "                                                                                                  \n",
      "==================================================================================================\n",
      "Total params: 19,962,776\n",
      "Trainable params: 19,962,776\n",
      "Non-trainable params: 0\n",
      "__________________________________________________________________________________________________\n"
     ]
    }
   ],
   "source": [
    "callbacks = [\n",
    "    tf.keras.callbacks.ModelCheckpoint(\n",
    "        f\"{model.name}.keras\",\n",
    "        save_best_only=True,\n",
    "        monitor=\"val_loss\"),\n",
    "    tf.keras.callbacks.EarlyStopping(\n",
    "        monitor=\"val_accuracy\",\n",
    "        patience=7),\n",
    "    tf.keras.callbacks.ReduceLROnPlateau(\n",
    "        monitor='val_loss',\n",
    "        factor=0.666,\n",
    "        min_lr=6e-5,\n",
    "        patience=2),\n",
    "#     tf.keras.callbacks.TensorBoard(\n",
    "#         log_dir=\"logs\",\n",
    "#         histogram_freq=2,\n",
    "#         write_images=True)\n",
    "]\n",
    "\n",
    "model.compile(optimizer=RMSprop(0.001),\n",
    "              loss=\"sparse_categorical_crossentropy\",\n",
    "              metrics=[\"accuracy\"])\n",
    "\n",
    "model.summary()"
   ]
  },
  {
   "cell_type": "markdown",
   "id": "2d9518fd",
   "metadata": {},
   "source": [
    "### Fit"
   ]
  },
  {
   "cell_type": "code",
   "execution_count": 20,
   "id": "7f641d42",
   "metadata": {},
   "outputs": [
    {
     "name": "stdout",
     "output_type": "stream",
     "text": [
      "Epoch 1/100\n",
      "1329/1329 [==============================] - 87s 63ms/step - loss: 1.6444 - accuracy: 0.3746 - val_loss: 1.4174 - val_accuracy: 0.4291 - lr: 0.0010\n",
      "Epoch 2/100\n",
      "1329/1329 [==============================] - 84s 63ms/step - loss: 1.4361 - accuracy: 0.4453 - val_loss: 1.2971 - val_accuracy: 0.4783 - lr: 0.0010\n",
      "Epoch 3/100\n",
      "1329/1329 [==============================] - 81s 61ms/step - loss: 1.3211 - accuracy: 0.4829 - val_loss: 1.2068 - val_accuracy: 0.5103 - lr: 0.0010\n",
      "Epoch 4/100\n",
      "1329/1329 [==============================] - 83s 62ms/step - loss: 1.2437 - accuracy: 0.5099 - val_loss: 1.1493 - val_accuracy: 0.5347 - lr: 0.0010\n",
      "Epoch 5/100\n",
      "1329/1329 [==============================] - 82s 62ms/step - loss: 1.1798 - accuracy: 0.5326 - val_loss: 1.0990 - val_accuracy: 0.5539 - lr: 0.0010\n",
      "Epoch 6/100\n",
      "1329/1329 [==============================] - 82s 62ms/step - loss: 1.1351 - accuracy: 0.5503 - val_loss: 1.0694 - val_accuracy: 0.5660 - lr: 0.0010\n",
      "Epoch 7/100\n",
      "1329/1329 [==============================] - 82s 61ms/step - loss: 1.1180 - accuracy: 0.5628 - val_loss: 1.0634 - val_accuracy: 0.5770 - lr: 0.0010\n",
      "Epoch 8/100\n",
      "1329/1329 [==============================] - 82s 62ms/step - loss: 1.1172 - accuracy: 0.5716 - val_loss: 1.0666 - val_accuracy: 0.5816 - lr: 0.0010\n",
      "Epoch 9/100\n",
      "1329/1329 [==============================] - 84s 63ms/step - loss: 1.1071 - accuracy: 0.5796 - val_loss: 1.0637 - val_accuracy: 0.5842 - lr: 0.0010\n",
      "Epoch 10/100\n",
      "1329/1329 [==============================] - 82s 61ms/step - loss: 1.0818 - accuracy: 0.5947 - val_loss: 1.0507 - val_accuracy: 0.5925 - lr: 6.6600e-04\n",
      "Epoch 11/100\n",
      "1329/1329 [==============================] - 85s 64ms/step - loss: 1.0717 - accuracy: 0.6013 - val_loss: 1.0462 - val_accuracy: 0.5973 - lr: 6.6600e-04\n",
      "Epoch 12/100\n",
      "1329/1329 [==============================] - 87s 65ms/step - loss: 1.0654 - accuracy: 0.6053 - val_loss: 1.0377 - val_accuracy: 0.6015 - lr: 6.6600e-04\n",
      "Epoch 13/100\n",
      "1329/1329 [==============================] - 86s 65ms/step - loss: 1.0610 - accuracy: 0.6089 - val_loss: 1.0352 - val_accuracy: 0.6047 - lr: 6.6600e-04\n",
      "Epoch 14/100\n",
      "1329/1329 [==============================] - 85s 64ms/step - loss: 1.0549 - accuracy: 0.6124 - val_loss: 1.0353 - val_accuracy: 0.6049 - lr: 6.6600e-04\n",
      "Epoch 15/100\n",
      "1329/1329 [==============================] - 90s 68ms/step - loss: 1.0497 - accuracy: 0.6155 - val_loss: 1.0297 - val_accuracy: 0.6066 - lr: 6.6600e-04\n",
      "Epoch 16/100\n",
      "1329/1329 [==============================] - 84s 63ms/step - loss: 1.0431 - accuracy: 0.6189 - val_loss: 1.0264 - val_accuracy: 0.6081 - lr: 6.6600e-04\n",
      "Epoch 17/100\n",
      "1329/1329 [==============================] - 90s 67ms/step - loss: 1.0382 - accuracy: 0.6215 - val_loss: 1.0232 - val_accuracy: 0.6097 - lr: 6.6600e-04\n",
      "Epoch 18/100\n",
      "1329/1329 [==============================] - 86s 65ms/step - loss: 1.0330 - accuracy: 0.6240 - val_loss: 1.0232 - val_accuracy: 0.6099 - lr: 6.6600e-04\n",
      "Epoch 19/100\n",
      "1329/1329 [==============================] - 83s 62ms/step - loss: 1.0294 - accuracy: 0.6259 - val_loss: 1.0221 - val_accuracy: 0.6116 - lr: 6.6600e-04\n",
      "Epoch 20/100\n",
      "1329/1329 [==============================] - 82s 62ms/step - loss: 1.0258 - accuracy: 0.6277 - val_loss: 1.0234 - val_accuracy: 0.6111 - lr: 6.6600e-04\n",
      "Epoch 21/100\n",
      "1329/1329 [==============================] - 82s 62ms/step - loss: 1.0194 - accuracy: 0.6305 - val_loss: 1.0156 - val_accuracy: 0.6140 - lr: 6.6600e-04\n",
      "Epoch 22/100\n",
      "1329/1329 [==============================] - 83s 63ms/step - loss: 1.0163 - accuracy: 0.6320 - val_loss: 1.0140 - val_accuracy: 0.6141 - lr: 6.6600e-04\n",
      "Epoch 23/100\n",
      "1329/1329 [==============================] - 82s 62ms/step - loss: 1.0104 - accuracy: 0.6340 - val_loss: 1.0157 - val_accuracy: 0.6145 - lr: 6.6600e-04\n",
      "Epoch 24/100\n",
      "1329/1329 [==============================] - 82s 62ms/step - loss: 1.0087 - accuracy: 0.6355 - val_loss: 1.0132 - val_accuracy: 0.6152 - lr: 6.6600e-04\n",
      "Epoch 25/100\n",
      "1329/1329 [==============================] - 81s 61ms/step - loss: 1.0032 - accuracy: 0.6377 - val_loss: 1.0101 - val_accuracy: 0.6186 - lr: 6.6600e-04\n",
      "Epoch 26/100\n",
      "1329/1329 [==============================] - 82s 62ms/step - loss: 0.9996 - accuracy: 0.6393 - val_loss: 1.0138 - val_accuracy: 0.6164 - lr: 6.6600e-04\n",
      "Epoch 27/100\n",
      "1329/1329 [==============================] - 82s 62ms/step - loss: 0.9956 - accuracy: 0.6411 - val_loss: 1.0088 - val_accuracy: 0.6186 - lr: 6.6600e-04\n",
      "Epoch 28/100\n",
      "1329/1329 [==============================] - 82s 62ms/step - loss: 0.9912 - accuracy: 0.6434 - val_loss: 1.0082 - val_accuracy: 0.6199 - lr: 6.6600e-04\n",
      "Epoch 29/100\n",
      "1329/1329 [==============================] - 82s 62ms/step - loss: 0.9887 - accuracy: 0.6442 - val_loss: 1.0103 - val_accuracy: 0.6175 - lr: 6.6600e-04\n",
      "Epoch 30/100\n",
      "1329/1329 [==============================] - 82s 62ms/step - loss: 0.9840 - accuracy: 0.6457 - val_loss: 1.0091 - val_accuracy: 0.6169 - lr: 6.6600e-04\n",
      "Epoch 31/100\n",
      "1329/1329 [==============================] - 84s 63ms/step - loss: 0.9648 - accuracy: 0.6562 - val_loss: 0.9996 - val_accuracy: 0.6247 - lr: 4.4356e-04\n",
      "Epoch 32/100\n",
      "1329/1329 [==============================] - 86s 64ms/step - loss: 0.9569 - accuracy: 0.6600 - val_loss: 0.9980 - val_accuracy: 0.6251 - lr: 4.4356e-04\n",
      "Epoch 33/100\n",
      "1329/1329 [==============================] - 83s 62ms/step - loss: 0.9537 - accuracy: 0.6610 - val_loss: 0.9950 - val_accuracy: 0.6258 - lr: 4.4356e-04\n",
      "Epoch 34/100\n",
      "1329/1329 [==============================] - 82s 62ms/step - loss: 0.9490 - accuracy: 0.6631 - val_loss: 0.9945 - val_accuracy: 0.6257 - lr: 4.4356e-04\n",
      "Epoch 35/100\n",
      "1329/1329 [==============================] - 84s 63ms/step - loss: 0.9429 - accuracy: 0.6652 - val_loss: 0.9960 - val_accuracy: 0.6255 - lr: 4.4356e-04\n",
      "Epoch 36/100\n",
      "1329/1329 [==============================] - 83s 62ms/step - loss: 0.9415 - accuracy: 0.6659 - val_loss: 0.9981 - val_accuracy: 0.6241 - lr: 4.4356e-04\n",
      "Epoch 37/100\n",
      "1329/1329 [==============================] - 82s 62ms/step - loss: 0.9302 - accuracy: 0.6735 - val_loss: 0.9942 - val_accuracy: 0.6283 - lr: 2.9541e-04\n",
      "Epoch 38/100\n",
      "1329/1329 [==============================] - 87s 66ms/step - loss: 0.9258 - accuracy: 0.6761 - val_loss: 0.9974 - val_accuracy: 0.6289 - lr: 2.9541e-04\n",
      "Epoch 39/100\n",
      "1329/1329 [==============================] - 84s 63ms/step - loss: 0.9237 - accuracy: 0.6773 - val_loss: 0.9963 - val_accuracy: 0.6280 - lr: 2.9541e-04\n",
      "Epoch 40/100\n",
      "1329/1329 [==============================] - 83s 62ms/step - loss: 0.9164 - accuracy: 0.6822 - val_loss: 0.9957 - val_accuracy: 0.6302 - lr: 1.9674e-04\n",
      "Epoch 41/100\n",
      " 163/1329 [==>...........................] - ETA: 1:09 - loss: 0.9143 - accuracy: 0.6819"
     ]
    },
    {
     "ename": "KeyboardInterrupt",
     "evalue": "",
     "output_type": "error",
     "traceback": [
      "\u001b[1;31m---------------------------------------------------------------------------\u001b[0m",
      "\u001b[1;31mKeyboardInterrupt\u001b[0m                         Traceback (most recent call last)",
      "Cell \u001b[1;32mIn[20], line 1\u001b[0m\n\u001b[1;32m----> 1\u001b[0m \u001b[43mmodel\u001b[49m\u001b[38;5;241;43m.\u001b[39;49m\u001b[43mfit\u001b[49m\u001b[43m(\u001b[49m\u001b[43mtrain_ds\u001b[49m\u001b[43m,\u001b[49m\u001b[43m \u001b[49m\u001b[43mvalidation_data\u001b[49m\u001b[38;5;241;43m=\u001b[39;49m\u001b[43mval_ds\u001b[49m\u001b[43m,\u001b[49m\u001b[43m \u001b[49m\u001b[43mcallbacks\u001b[49m\u001b[38;5;241;43m=\u001b[39;49m\u001b[43mcallbacks\u001b[49m\u001b[43m,\u001b[49m\u001b[43m \u001b[49m\u001b[43mepochs\u001b[49m\u001b[38;5;241;43m=\u001b[39;49m\u001b[38;5;241;43m100\u001b[39;49m\u001b[43m)\u001b[49m \u001b[38;5;66;03m#53 66 67.5   77s\u001b[39;00m\n",
      "File \u001b[1;32m~\\AppData\\Roaming\\Python\\Python39\\site-packages\\keras\\utils\\traceback_utils.py:65\u001b[0m, in \u001b[0;36mfilter_traceback.<locals>.error_handler\u001b[1;34m(*args, **kwargs)\u001b[0m\n\u001b[0;32m     63\u001b[0m filtered_tb \u001b[38;5;241m=\u001b[39m \u001b[38;5;28;01mNone\u001b[39;00m\n\u001b[0;32m     64\u001b[0m \u001b[38;5;28;01mtry\u001b[39;00m:\n\u001b[1;32m---> 65\u001b[0m     \u001b[38;5;28;01mreturn\u001b[39;00m fn(\u001b[38;5;241m*\u001b[39margs, \u001b[38;5;241m*\u001b[39m\u001b[38;5;241m*\u001b[39mkwargs)\n\u001b[0;32m     66\u001b[0m \u001b[38;5;28;01mexcept\u001b[39;00m \u001b[38;5;167;01mException\u001b[39;00m \u001b[38;5;28;01mas\u001b[39;00m e:\n\u001b[0;32m     67\u001b[0m     filtered_tb \u001b[38;5;241m=\u001b[39m _process_traceback_frames(e\u001b[38;5;241m.\u001b[39m__traceback__)\n",
      "File \u001b[1;32m~\\AppData\\Roaming\\Python\\Python39\\site-packages\\keras\\engine\\training.py:1570\u001b[0m, in \u001b[0;36mModel.fit\u001b[1;34m(self, x, y, batch_size, epochs, verbose, callbacks, validation_split, validation_data, shuffle, class_weight, sample_weight, initial_epoch, steps_per_epoch, validation_steps, validation_batch_size, validation_freq, max_queue_size, workers, use_multiprocessing)\u001b[0m\n\u001b[0;32m   1568\u001b[0m logs \u001b[38;5;241m=\u001b[39m tmp_logs\n\u001b[0;32m   1569\u001b[0m end_step \u001b[38;5;241m=\u001b[39m step \u001b[38;5;241m+\u001b[39m data_handler\u001b[38;5;241m.\u001b[39mstep_increment\n\u001b[1;32m-> 1570\u001b[0m \u001b[43mcallbacks\u001b[49m\u001b[38;5;241;43m.\u001b[39;49m\u001b[43mon_train_batch_end\u001b[49m\u001b[43m(\u001b[49m\u001b[43mend_step\u001b[49m\u001b[43m,\u001b[49m\u001b[43m \u001b[49m\u001b[43mlogs\u001b[49m\u001b[43m)\u001b[49m\n\u001b[0;32m   1571\u001b[0m \u001b[38;5;28;01mif\u001b[39;00m \u001b[38;5;28mself\u001b[39m\u001b[38;5;241m.\u001b[39mstop_training:\n\u001b[0;32m   1572\u001b[0m     \u001b[38;5;28;01mbreak\u001b[39;00m\n",
      "File \u001b[1;32m~\\AppData\\Roaming\\Python\\Python39\\site-packages\\keras\\callbacks.py:470\u001b[0m, in \u001b[0;36mCallbackList.on_train_batch_end\u001b[1;34m(self, batch, logs)\u001b[0m\n\u001b[0;32m    463\u001b[0m \u001b[38;5;124;03m\"\"\"Calls the `on_train_batch_end` methods of its callbacks.\u001b[39;00m\n\u001b[0;32m    464\u001b[0m \n\u001b[0;32m    465\u001b[0m \u001b[38;5;124;03mArgs:\u001b[39;00m\n\u001b[0;32m    466\u001b[0m \u001b[38;5;124;03m    batch: Integer, index of batch within the current epoch.\u001b[39;00m\n\u001b[0;32m    467\u001b[0m \u001b[38;5;124;03m    logs: Dict. Aggregated metric results up until this batch.\u001b[39;00m\n\u001b[0;32m    468\u001b[0m \u001b[38;5;124;03m\"\"\"\u001b[39;00m\n\u001b[0;32m    469\u001b[0m \u001b[38;5;28;01mif\u001b[39;00m \u001b[38;5;28mself\u001b[39m\u001b[38;5;241m.\u001b[39m_should_call_train_batch_hooks:\n\u001b[1;32m--> 470\u001b[0m     \u001b[38;5;28;43mself\u001b[39;49m\u001b[38;5;241;43m.\u001b[39;49m\u001b[43m_call_batch_hook\u001b[49m\u001b[43m(\u001b[49m\u001b[43mModeKeys\u001b[49m\u001b[38;5;241;43m.\u001b[39;49m\u001b[43mTRAIN\u001b[49m\u001b[43m,\u001b[49m\u001b[43m \u001b[49m\u001b[38;5;124;43m\"\u001b[39;49m\u001b[38;5;124;43mend\u001b[39;49m\u001b[38;5;124;43m\"\u001b[39;49m\u001b[43m,\u001b[49m\u001b[43m \u001b[49m\u001b[43mbatch\u001b[49m\u001b[43m,\u001b[49m\u001b[43m \u001b[49m\u001b[43mlogs\u001b[49m\u001b[38;5;241;43m=\u001b[39;49m\u001b[43mlogs\u001b[49m\u001b[43m)\u001b[49m\n",
      "File \u001b[1;32m~\\AppData\\Roaming\\Python\\Python39\\site-packages\\keras\\callbacks.py:317\u001b[0m, in \u001b[0;36mCallbackList._call_batch_hook\u001b[1;34m(self, mode, hook, batch, logs)\u001b[0m\n\u001b[0;32m    315\u001b[0m     \u001b[38;5;28mself\u001b[39m\u001b[38;5;241m.\u001b[39m_call_batch_begin_hook(mode, batch, logs)\n\u001b[0;32m    316\u001b[0m \u001b[38;5;28;01melif\u001b[39;00m hook \u001b[38;5;241m==\u001b[39m \u001b[38;5;124m\"\u001b[39m\u001b[38;5;124mend\u001b[39m\u001b[38;5;124m\"\u001b[39m:\n\u001b[1;32m--> 317\u001b[0m     \u001b[38;5;28;43mself\u001b[39;49m\u001b[38;5;241;43m.\u001b[39;49m\u001b[43m_call_batch_end_hook\u001b[49m\u001b[43m(\u001b[49m\u001b[43mmode\u001b[49m\u001b[43m,\u001b[49m\u001b[43m \u001b[49m\u001b[43mbatch\u001b[49m\u001b[43m,\u001b[49m\u001b[43m \u001b[49m\u001b[43mlogs\u001b[49m\u001b[43m)\u001b[49m\n\u001b[0;32m    318\u001b[0m \u001b[38;5;28;01melse\u001b[39;00m:\n\u001b[0;32m    319\u001b[0m     \u001b[38;5;28;01mraise\u001b[39;00m \u001b[38;5;167;01mValueError\u001b[39;00m(\n\u001b[0;32m    320\u001b[0m         \u001b[38;5;124mf\u001b[39m\u001b[38;5;124m\"\u001b[39m\u001b[38;5;124mUnrecognized hook: \u001b[39m\u001b[38;5;132;01m{\u001b[39;00mhook\u001b[38;5;132;01m}\u001b[39;00m\u001b[38;5;124m. \u001b[39m\u001b[38;5;124m\"\u001b[39m\n\u001b[0;32m    321\u001b[0m         \u001b[38;5;124m'\u001b[39m\u001b[38;5;124mExpected values are [\u001b[39m\u001b[38;5;124m\"\u001b[39m\u001b[38;5;124mbegin\u001b[39m\u001b[38;5;124m\"\u001b[39m\u001b[38;5;124m, \u001b[39m\u001b[38;5;124m\"\u001b[39m\u001b[38;5;124mend\u001b[39m\u001b[38;5;124m\"\u001b[39m\u001b[38;5;124m]\u001b[39m\u001b[38;5;124m'\u001b[39m\n\u001b[0;32m    322\u001b[0m     )\n",
      "File \u001b[1;32m~\\AppData\\Roaming\\Python\\Python39\\site-packages\\keras\\callbacks.py:340\u001b[0m, in \u001b[0;36mCallbackList._call_batch_end_hook\u001b[1;34m(self, mode, batch, logs)\u001b[0m\n\u001b[0;32m    337\u001b[0m     batch_time \u001b[38;5;241m=\u001b[39m time\u001b[38;5;241m.\u001b[39mtime() \u001b[38;5;241m-\u001b[39m \u001b[38;5;28mself\u001b[39m\u001b[38;5;241m.\u001b[39m_batch_start_time\n\u001b[0;32m    338\u001b[0m     \u001b[38;5;28mself\u001b[39m\u001b[38;5;241m.\u001b[39m_batch_times\u001b[38;5;241m.\u001b[39mappend(batch_time)\n\u001b[1;32m--> 340\u001b[0m \u001b[38;5;28;43mself\u001b[39;49m\u001b[38;5;241;43m.\u001b[39;49m\u001b[43m_call_batch_hook_helper\u001b[49m\u001b[43m(\u001b[49m\u001b[43mhook_name\u001b[49m\u001b[43m,\u001b[49m\u001b[43m \u001b[49m\u001b[43mbatch\u001b[49m\u001b[43m,\u001b[49m\u001b[43m \u001b[49m\u001b[43mlogs\u001b[49m\u001b[43m)\u001b[49m\n\u001b[0;32m    342\u001b[0m \u001b[38;5;28;01mif\u001b[39;00m \u001b[38;5;28mlen\u001b[39m(\u001b[38;5;28mself\u001b[39m\u001b[38;5;241m.\u001b[39m_batch_times) \u001b[38;5;241m>\u001b[39m\u001b[38;5;241m=\u001b[39m \u001b[38;5;28mself\u001b[39m\u001b[38;5;241m.\u001b[39m_num_batches_for_timing_check:\n\u001b[0;32m    343\u001b[0m     end_hook_name \u001b[38;5;241m=\u001b[39m hook_name\n",
      "File \u001b[1;32m~\\AppData\\Roaming\\Python\\Python39\\site-packages\\keras\\callbacks.py:388\u001b[0m, in \u001b[0;36mCallbackList._call_batch_hook_helper\u001b[1;34m(self, hook_name, batch, logs)\u001b[0m\n\u001b[0;32m    386\u001b[0m \u001b[38;5;28;01mfor\u001b[39;00m callback \u001b[38;5;129;01min\u001b[39;00m \u001b[38;5;28mself\u001b[39m\u001b[38;5;241m.\u001b[39mcallbacks:\n\u001b[0;32m    387\u001b[0m     hook \u001b[38;5;241m=\u001b[39m \u001b[38;5;28mgetattr\u001b[39m(callback, hook_name)\n\u001b[1;32m--> 388\u001b[0m     \u001b[43mhook\u001b[49m\u001b[43m(\u001b[49m\u001b[43mbatch\u001b[49m\u001b[43m,\u001b[49m\u001b[43m \u001b[49m\u001b[43mlogs\u001b[49m\u001b[43m)\u001b[49m\n\u001b[0;32m    390\u001b[0m \u001b[38;5;28;01mif\u001b[39;00m \u001b[38;5;28mself\u001b[39m\u001b[38;5;241m.\u001b[39m_check_timing:\n\u001b[0;32m    391\u001b[0m     \u001b[38;5;28;01mif\u001b[39;00m hook_name \u001b[38;5;129;01mnot\u001b[39;00m \u001b[38;5;129;01min\u001b[39;00m \u001b[38;5;28mself\u001b[39m\u001b[38;5;241m.\u001b[39m_hook_times:\n",
      "File \u001b[1;32m~\\AppData\\Roaming\\Python\\Python39\\site-packages\\keras\\callbacks.py:1081\u001b[0m, in \u001b[0;36mProgbarLogger.on_train_batch_end\u001b[1;34m(self, batch, logs)\u001b[0m\n\u001b[0;32m   1080\u001b[0m \u001b[38;5;28;01mdef\u001b[39;00m \u001b[38;5;21mon_train_batch_end\u001b[39m(\u001b[38;5;28mself\u001b[39m, batch, logs\u001b[38;5;241m=\u001b[39m\u001b[38;5;28;01mNone\u001b[39;00m):\n\u001b[1;32m-> 1081\u001b[0m     \u001b[38;5;28;43mself\u001b[39;49m\u001b[38;5;241;43m.\u001b[39;49m\u001b[43m_batch_update_progbar\u001b[49m\u001b[43m(\u001b[49m\u001b[43mbatch\u001b[49m\u001b[43m,\u001b[49m\u001b[43m \u001b[49m\u001b[43mlogs\u001b[49m\u001b[43m)\u001b[49m\n",
      "File \u001b[1;32m~\\AppData\\Roaming\\Python\\Python39\\site-packages\\keras\\callbacks.py:1157\u001b[0m, in \u001b[0;36mProgbarLogger._batch_update_progbar\u001b[1;34m(self, batch, logs)\u001b[0m\n\u001b[0;32m   1153\u001b[0m     \u001b[38;5;28mself\u001b[39m\u001b[38;5;241m.\u001b[39mseen \u001b[38;5;241m+\u001b[39m\u001b[38;5;241m=\u001b[39m add_seen\n\u001b[0;32m   1155\u001b[0m \u001b[38;5;28;01mif\u001b[39;00m \u001b[38;5;28mself\u001b[39m\u001b[38;5;241m.\u001b[39mverbose \u001b[38;5;241m==\u001b[39m \u001b[38;5;241m1\u001b[39m:\n\u001b[0;32m   1156\u001b[0m     \u001b[38;5;66;03m# Only block async when verbose = 1.\u001b[39;00m\n\u001b[1;32m-> 1157\u001b[0m     logs \u001b[38;5;241m=\u001b[39m \u001b[43mtf_utils\u001b[49m\u001b[38;5;241;43m.\u001b[39;49m\u001b[43msync_to_numpy_or_python_type\u001b[49m\u001b[43m(\u001b[49m\u001b[43mlogs\u001b[49m\u001b[43m)\u001b[49m\n\u001b[0;32m   1158\u001b[0m     \u001b[38;5;28mself\u001b[39m\u001b[38;5;241m.\u001b[39mprogbar\u001b[38;5;241m.\u001b[39mupdate(\u001b[38;5;28mself\u001b[39m\u001b[38;5;241m.\u001b[39mseen, \u001b[38;5;28mlist\u001b[39m(logs\u001b[38;5;241m.\u001b[39mitems()), finalize\u001b[38;5;241m=\u001b[39m\u001b[38;5;28;01mFalse\u001b[39;00m)\n",
      "File \u001b[1;32m~\\AppData\\Roaming\\Python\\Python39\\site-packages\\keras\\utils\\tf_utils.py:635\u001b[0m, in \u001b[0;36msync_to_numpy_or_python_type\u001b[1;34m(tensors)\u001b[0m\n\u001b[0;32m    632\u001b[0m         \u001b[38;5;28;01mreturn\u001b[39;00m t\n\u001b[0;32m    633\u001b[0m     \u001b[38;5;28;01mreturn\u001b[39;00m t\u001b[38;5;241m.\u001b[39mitem() \u001b[38;5;28;01mif\u001b[39;00m np\u001b[38;5;241m.\u001b[39mndim(t) \u001b[38;5;241m==\u001b[39m \u001b[38;5;241m0\u001b[39m \u001b[38;5;28;01melse\u001b[39;00m t\n\u001b[1;32m--> 635\u001b[0m \u001b[38;5;28;01mreturn\u001b[39;00m \u001b[43mtf\u001b[49m\u001b[38;5;241;43m.\u001b[39;49m\u001b[43mnest\u001b[49m\u001b[38;5;241;43m.\u001b[39;49m\u001b[43mmap_structure\u001b[49m\u001b[43m(\u001b[49m\u001b[43m_to_single_numpy_or_python_type\u001b[49m\u001b[43m,\u001b[49m\u001b[43m \u001b[49m\u001b[43mtensors\u001b[49m\u001b[43m)\u001b[49m\n",
      "File \u001b[1;32m~\\AppData\\Roaming\\Python\\Python39\\site-packages\\tensorflow\\python\\util\\nest.py:917\u001b[0m, in \u001b[0;36mmap_structure\u001b[1;34m(func, *structure, **kwargs)\u001b[0m\n\u001b[0;32m    913\u001b[0m flat_structure \u001b[38;5;241m=\u001b[39m (flatten(s, expand_composites) \u001b[38;5;28;01mfor\u001b[39;00m s \u001b[38;5;129;01min\u001b[39;00m structure)\n\u001b[0;32m    914\u001b[0m entries \u001b[38;5;241m=\u001b[39m \u001b[38;5;28mzip\u001b[39m(\u001b[38;5;241m*\u001b[39mflat_structure)\n\u001b[0;32m    916\u001b[0m \u001b[38;5;28;01mreturn\u001b[39;00m pack_sequence_as(\n\u001b[1;32m--> 917\u001b[0m     structure[\u001b[38;5;241m0\u001b[39m], [func(\u001b[38;5;241m*\u001b[39mx) \u001b[38;5;28;01mfor\u001b[39;00m x \u001b[38;5;129;01min\u001b[39;00m entries],\n\u001b[0;32m    918\u001b[0m     expand_composites\u001b[38;5;241m=\u001b[39mexpand_composites)\n",
      "File \u001b[1;32m~\\AppData\\Roaming\\Python\\Python39\\site-packages\\tensorflow\\python\\util\\nest.py:917\u001b[0m, in \u001b[0;36m<listcomp>\u001b[1;34m(.0)\u001b[0m\n\u001b[0;32m    913\u001b[0m flat_structure \u001b[38;5;241m=\u001b[39m (flatten(s, expand_composites) \u001b[38;5;28;01mfor\u001b[39;00m s \u001b[38;5;129;01min\u001b[39;00m structure)\n\u001b[0;32m    914\u001b[0m entries \u001b[38;5;241m=\u001b[39m \u001b[38;5;28mzip\u001b[39m(\u001b[38;5;241m*\u001b[39mflat_structure)\n\u001b[0;32m    916\u001b[0m \u001b[38;5;28;01mreturn\u001b[39;00m pack_sequence_as(\n\u001b[1;32m--> 917\u001b[0m     structure[\u001b[38;5;241m0\u001b[39m], [\u001b[43mfunc\u001b[49m\u001b[43m(\u001b[49m\u001b[38;5;241;43m*\u001b[39;49m\u001b[43mx\u001b[49m\u001b[43m)\u001b[49m \u001b[38;5;28;01mfor\u001b[39;00m x \u001b[38;5;129;01min\u001b[39;00m entries],\n\u001b[0;32m    918\u001b[0m     expand_composites\u001b[38;5;241m=\u001b[39mexpand_composites)\n",
      "File \u001b[1;32m~\\AppData\\Roaming\\Python\\Python39\\site-packages\\keras\\utils\\tf_utils.py:628\u001b[0m, in \u001b[0;36msync_to_numpy_or_python_type.<locals>._to_single_numpy_or_python_type\u001b[1;34m(t)\u001b[0m\n\u001b[0;32m    625\u001b[0m \u001b[38;5;28;01mdef\u001b[39;00m \u001b[38;5;21m_to_single_numpy_or_python_type\u001b[39m(t):\n\u001b[0;32m    626\u001b[0m     \u001b[38;5;66;03m# Don't turn ragged or sparse tensors to NumPy.\u001b[39;00m\n\u001b[0;32m    627\u001b[0m     \u001b[38;5;28;01mif\u001b[39;00m \u001b[38;5;28misinstance\u001b[39m(t, tf\u001b[38;5;241m.\u001b[39mTensor):\n\u001b[1;32m--> 628\u001b[0m         t \u001b[38;5;241m=\u001b[39m \u001b[43mt\u001b[49m\u001b[38;5;241;43m.\u001b[39;49m\u001b[43mnumpy\u001b[49m\u001b[43m(\u001b[49m\u001b[43m)\u001b[49m\n\u001b[0;32m    629\u001b[0m     \u001b[38;5;66;03m# Strings, ragged and sparse tensors don't have .item(). Return them\u001b[39;00m\n\u001b[0;32m    630\u001b[0m     \u001b[38;5;66;03m# as-is.\u001b[39;00m\n\u001b[0;32m    631\u001b[0m     \u001b[38;5;28;01mif\u001b[39;00m \u001b[38;5;129;01mnot\u001b[39;00m \u001b[38;5;28misinstance\u001b[39m(t, (np\u001b[38;5;241m.\u001b[39mndarray, np\u001b[38;5;241m.\u001b[39mgeneric)):\n",
      "File \u001b[1;32m~\\AppData\\Roaming\\Python\\Python39\\site-packages\\tensorflow\\python\\framework\\ops.py:1157\u001b[0m, in \u001b[0;36m_EagerTensorBase.numpy\u001b[1;34m(self)\u001b[0m\n\u001b[0;32m   1134\u001b[0m \u001b[38;5;124;03m\"\"\"Copy of the contents of this Tensor into a NumPy array or scalar.\u001b[39;00m\n\u001b[0;32m   1135\u001b[0m \n\u001b[0;32m   1136\u001b[0m \u001b[38;5;124;03mUnlike NumPy arrays, Tensors are immutable, so this method has to copy\u001b[39;00m\n\u001b[1;32m   (...)\u001b[0m\n\u001b[0;32m   1154\u001b[0m \u001b[38;5;124;03m    NumPy dtype.\u001b[39;00m\n\u001b[0;32m   1155\u001b[0m \u001b[38;5;124;03m\"\"\"\u001b[39;00m\n\u001b[0;32m   1156\u001b[0m \u001b[38;5;66;03m# TODO(slebedev): Consider avoiding a copy for non-CPU or remote tensors.\u001b[39;00m\n\u001b[1;32m-> 1157\u001b[0m maybe_arr \u001b[38;5;241m=\u001b[39m \u001b[38;5;28;43mself\u001b[39;49m\u001b[38;5;241;43m.\u001b[39;49m\u001b[43m_numpy\u001b[49m\u001b[43m(\u001b[49m\u001b[43m)\u001b[49m  \u001b[38;5;66;03m# pylint: disable=protected-access\u001b[39;00m\n\u001b[0;32m   1158\u001b[0m \u001b[38;5;28;01mreturn\u001b[39;00m maybe_arr\u001b[38;5;241m.\u001b[39mcopy() \u001b[38;5;28;01mif\u001b[39;00m \u001b[38;5;28misinstance\u001b[39m(maybe_arr, np\u001b[38;5;241m.\u001b[39mndarray) \u001b[38;5;28;01melse\u001b[39;00m maybe_arr\n",
      "File \u001b[1;32m~\\AppData\\Roaming\\Python\\Python39\\site-packages\\tensorflow\\python\\framework\\ops.py:1123\u001b[0m, in \u001b[0;36m_EagerTensorBase._numpy\u001b[1;34m(self)\u001b[0m\n\u001b[0;32m   1121\u001b[0m \u001b[38;5;28;01mdef\u001b[39;00m \u001b[38;5;21m_numpy\u001b[39m(\u001b[38;5;28mself\u001b[39m):\n\u001b[0;32m   1122\u001b[0m   \u001b[38;5;28;01mtry\u001b[39;00m:\n\u001b[1;32m-> 1123\u001b[0m     \u001b[38;5;28;01mreturn\u001b[39;00m \u001b[38;5;28;43mself\u001b[39;49m\u001b[38;5;241;43m.\u001b[39;49m\u001b[43m_numpy_internal\u001b[49m\u001b[43m(\u001b[49m\u001b[43m)\u001b[49m\n\u001b[0;32m   1124\u001b[0m   \u001b[38;5;28;01mexcept\u001b[39;00m core\u001b[38;5;241m.\u001b[39m_NotOkStatusException \u001b[38;5;28;01mas\u001b[39;00m e:  \u001b[38;5;66;03m# pylint: disable=protected-access\u001b[39;00m\n\u001b[0;32m   1125\u001b[0m     \u001b[38;5;28;01mraise\u001b[39;00m core\u001b[38;5;241m.\u001b[39m_status_to_exception(e) \u001b[38;5;28;01mfrom\u001b[39;00m \u001b[38;5;28mNone\u001b[39m\n",
      "\u001b[1;31mKeyboardInterrupt\u001b[0m: "
     ]
    }
   ],
   "source": [
    "model.fit(train_ds, validation_data=val_ds, callbacks=callbacks, epochs=100) #53 66 67.5   77s"
   ]
  },
  {
   "cell_type": "code",
   "execution_count": null,
   "id": "49b04c48",
   "metadata": {},
   "outputs": [],
   "source": []
  },
  {
   "cell_type": "code",
   "execution_count": null,
   "id": "22d83383",
   "metadata": {},
   "outputs": [],
   "source": []
  },
  {
   "cell_type": "markdown",
   "id": "c07da82c",
   "metadata": {},
   "source": [
    "### Test models in translate"
   ]
  },
  {
   "cell_type": "code",
   "execution_count": 27,
   "id": "4a97c095",
   "metadata": {
    "scrolled": true
   },
   "outputs": [
    {
     "name": "stdout",
     "output_type": "stream",
     "text": [
      "-\n",
      "You shouldn't have lied to me.\n",
      "[START] no que deberias me [UNK] . . [END]\n",
      "-\n",
      "Don't go there.\n",
      "[START] no a alli estar . alli [END]\n",
      "-\n",
      "Food should be chewed before being swallowed.\n",
      "[START] la comida comida antes antes de de [UNK] la . [UNK] [END]\n",
      "-\n",
      "He was accompanied by his wife.\n",
      "[START] fue estaba por [UNK] su . madre [END]\n",
      "-\n",
      "I am tired of the work.\n",
      "[START] estoy cansado de del el trabajo trabajo . . [END]\n",
      "-\n",
      "I don't want to go to work today.\n",
      "[START] no que quiero trabajar ir . . [END]\n",
      "-\n",
      "I agreed.\n",
      "[START] yo . . [END]\n",
      "-\n",
      "I would like to go to America one day.\n",
      "[START] me una gustaria escuela ir en en un un dia dia . . [END]\n",
      "-\n",
      "Didn't you hear the doorbell?\n",
      "[START] ¿ no que le [UNK] [UNK] ? ? [END]\n",
      "-\n",
      "How you've grown!\n",
      "[START] como que has ! [UNK] [END]\n",
      "-\n",
      "Tom understands what it takes to survive.\n",
      "[START] tom que lo esta que haciendo te . [UNK] [END]\n",
      "-\n",
      "You have many friends.\n",
      "[START] tienes muchos amigos amigos . . [END]\n",
      "-\n",
      "It's very clean.\n",
      "[START] es muy muy . . [END]\n",
      "-\n",
      "On my way here, the strong wind blew my umbrella inside out.\n",
      "[START] en de una aqui vez , , el el paraguas paraguas en en el el paraguas paraguas . . [END]\n",
      "-\n",
      "I don't know how old I am.\n",
      "[START] no que como un yo joven . . [END]\n",
      "-\n",
      "I barely know Tom.\n",
      "[START] apenas se saber . a [END]\n",
      "-\n",
      "Don't ask me for forgiveness. What's been done has been done.\n",
      "[START] no que te no hace es lo que que ha el sido . . [END]\n",
      "-\n",
      "I'll call her immediately.\n",
      "[START] le a [UNK] sus . . [END]\n",
      "-\n",
      "If anyone can do it, it's you.\n",
      "[START] si alguien puede lo hacer que . es [END]\n",
      "-\n",
      "Long time, no see.\n",
      "[START] yo de que que ver quiere . . [END]\n"
     ]
    }
   ],
   "source": [
    "# model = load_model(\"RNN_seq2seq.keras\")  # Tranformer RNN_seq2seq\n",
    "# print(f\"Test acc: {model.evaluate(test_ds)[1]:.3f}\")\n",
    "\n",
    "def decode_sequence(input_sentence, is_transfomer=False):\n",
    "    tokenized_input_sentence = source_vectorization([input_sentence])\n",
    "    decoded_sentence = \"[START]\"\n",
    "    for i in range(MAX_SEQ_LENGTH):\n",
    "        tokenized_target_sentence = target_vectorization([decoded_sentence])\n",
    "        if is_transfomer:\n",
    "            tokenized_target_sentence = tokenized_target_sentence[:, :-1]\n",
    "        next_token_predictions = model.predict([tokenized_input_sentence, tokenized_target_sentence], verbose=0)\n",
    "        sampled_token_index = np.argmax(next_token_predictions[0, i, :])\n",
    "        sampled_token = spa_index_lookup[sampled_token_index]\n",
    "        decoded_sentence += \" \" + sampled_token\n",
    "        if sampled_token == \"[END]\":\n",
    "            break\n",
    "    return decoded_sentence\n",
    "\n",
    "test_eng_texts = [pair[0] for pair in train_pairs]  # train_pairs test_pairs\n",
    "for _ in range(20):\n",
    "    input_sentence = random.choice(test_eng_texts)\n",
    "    print(\"-\")\n",
    "    print(input_sentence)\n",
    "    print(decode_sequence(input_sentence, True))"
   ]
  },
  {
   "cell_type": "code",
   "execution_count": null,
   "id": "cb1ffdc6",
   "metadata": {},
   "outputs": [],
   "source": []
  },
  {
   "cell_type": "markdown",
   "id": "da33121c",
   "metadata": {},
   "source": [
    "#### Another"
   ]
  },
  {
   "cell_type": "code",
   "execution_count": null,
   "id": "8f949691",
   "metadata": {},
   "outputs": [],
   "source": [
    "class PositionalEncoding(layers.Layer):\n",
    "    def __init__(self, max_sentence_len=50, embedding_size=256, dtype=tf.float32, **kwargs):\n",
    "        super().__init__(dtype=dtype, **kwargs)\n",
    "        if not embedding_size % 2 == 0:\n",
    "            raise ValueError(\"The `embedding_size` must be even.\")\n",
    "\n",
    "        p, i = np.meshgrid(np.arange(max_sentence_len), np.arange(embedding_size // 2))\n",
    "        pos_emb = np.empty((1, max_sentence_len, embedding_size))\n",
    "        pos_emb[:, :, 0::2] = np.sin(p / 10_000 ** (2 * i / embedding_size)).T\n",
    "        pos_emb[:, :, 1::2] = np.cos(p / 10_000 ** (2 * i / embedding_size)).T\n",
    "        self.positional_embedding = tf.constant(pos_emb.astype(self.dtype))\n",
    "        self.supports_masking = True\n",
    "\n",
    "    def call(self, inputs):\n",
    "        batch_max_length = tf.shape(inputs)[1]\n",
    "        return inputs + self.positional_embedding[:, :batch_max_length]"
   ]
  }
 ],
 "metadata": {
  "kernelspec": {
   "display_name": "Python 3 (ipykernel)",
   "language": "python",
   "name": "python3"
  },
  "language_info": {
   "codemirror_mode": {
    "name": "ipython",
    "version": 3
   },
   "file_extension": ".py",
   "mimetype": "text/x-python",
   "name": "python",
   "nbconvert_exporter": "python",
   "pygments_lexer": "ipython3",
   "version": "3.9.7"
  }
 },
 "nbformat": 4,
 "nbformat_minor": 5
}
